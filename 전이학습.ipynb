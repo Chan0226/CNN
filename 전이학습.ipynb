{
  "nbformat": 4,
  "nbformat_minor": 0,
  "metadata": {
    "colab": {
      "name": "전이학습.ipynb",
      "provenance": [],
      "collapsed_sections": [],
      "include_colab_link": true
    },
    "kernelspec": {
      "name": "python3",
      "display_name": "Python 3"
    },
    "language_info": {
      "name": "python"
    },
    "accelerator": "GPU"
  },
  "cells": [
    {
      "cell_type": "markdown",
      "metadata": {
        "id": "view-in-github",
        "colab_type": "text"
      },
      "source": [
        "<a href=\"https://colab.research.google.com/github/Chan0226/CNN/blob/main/%EC%A0%84%EC%9D%B4%ED%95%99%EC%8A%B5.ipynb\" target=\"_parent\"><img src=\"https://colab.research.google.com/assets/colab-badge.svg\" alt=\"Open In Colab\"/></a>"
      ]
    },
    {
      "cell_type": "code",
      "metadata": {
        "id": "sDfUVaabpXN9",
        "colab": {
          "base_uri": "https://localhost:8080/"
        },
        "outputId": "2aaa5877-6ee3-4b80-c8a6-69188f17188c"
      },
      "source": [
        "# cub200-2011\n",
        "!wget --load-cookies /tmp/cookies.txt \"https://docs.google.com/uc?export=download&confirm=$(wget --quiet --save-cookies /tmp/cookies.txt --keep-session-cookies --no-check-certificate 'https://docs.google.com/uc?export=download&id=1hbzc_P1FuxMkcabkgn9ZKinBwW683j45' -O- | sed -rn 's/.*confirm=([0-9A-Za-z_]+).*/\\1\\n/p')&id=1hbzc_P1FuxMkcabkgn9ZKinBwW683j45\" -O CUB_200_2011.tgz && rm -rf /tmp/cookies.txt"
      ],
      "execution_count": null,
      "outputs": [
        {
          "output_type": "stream",
          "name": "stdout",
          "text": [
            "--2021-11-19 10:16:45--  https://docs.google.com/uc?export=download&confirm=V422&id=1hbzc_P1FuxMkcabkgn9ZKinBwW683j45\n",
            "Resolving docs.google.com (docs.google.com)... 108.177.121.138, 108.177.121.102, 108.177.121.139, ...\n",
            "Connecting to docs.google.com (docs.google.com)|108.177.121.138|:443... connected.\n",
            "HTTP request sent, awaiting response... 302 Moved Temporarily\n",
            "Location: https://doc-14-50-docs.googleusercontent.com/docs/securesc/bejl6ccd5979qrvqjtc1tseil8fdbq2f/5ga7tdktsa34mmafnblg6h3esmuamghi/1637316975000/15424859768005087218/05533706151004306672Z/1hbzc_P1FuxMkcabkgn9ZKinBwW683j45?e=download [following]\n",
            "--2021-11-19 10:16:45--  https://doc-14-50-docs.googleusercontent.com/docs/securesc/bejl6ccd5979qrvqjtc1tseil8fdbq2f/5ga7tdktsa34mmafnblg6h3esmuamghi/1637316975000/15424859768005087218/05533706151004306672Z/1hbzc_P1FuxMkcabkgn9ZKinBwW683j45?e=download\n",
            "Resolving doc-14-50-docs.googleusercontent.com (doc-14-50-docs.googleusercontent.com)... 64.233.182.132, 2607:f8b0:4001:c0a::84\n",
            "Connecting to doc-14-50-docs.googleusercontent.com (doc-14-50-docs.googleusercontent.com)|64.233.182.132|:443... connected.\n",
            "HTTP request sent, awaiting response... 302 Found\n",
            "Location: https://docs.google.com/nonceSigner?nonce=l6ord49g2ckoi&continue=https://doc-14-50-docs.googleusercontent.com/docs/securesc/bejl6ccd5979qrvqjtc1tseil8fdbq2f/5ga7tdktsa34mmafnblg6h3esmuamghi/1637316975000/15424859768005087218/05533706151004306672Z/1hbzc_P1FuxMkcabkgn9ZKinBwW683j45?e%3Ddownload&hash=pq1p28ffghe0475t6ahm0gt2amaq6cbm [following]\n",
            "--2021-11-19 10:16:45--  https://docs.google.com/nonceSigner?nonce=l6ord49g2ckoi&continue=https://doc-14-50-docs.googleusercontent.com/docs/securesc/bejl6ccd5979qrvqjtc1tseil8fdbq2f/5ga7tdktsa34mmafnblg6h3esmuamghi/1637316975000/15424859768005087218/05533706151004306672Z/1hbzc_P1FuxMkcabkgn9ZKinBwW683j45?e%3Ddownload&hash=pq1p28ffghe0475t6ahm0gt2amaq6cbm\n",
            "Connecting to docs.google.com (docs.google.com)|108.177.121.138|:443... connected.\n",
            "HTTP request sent, awaiting response... 302 Found\n",
            "Location: https://doc-14-50-docs.googleusercontent.com/docs/securesc/bejl6ccd5979qrvqjtc1tseil8fdbq2f/5ga7tdktsa34mmafnblg6h3esmuamghi/1637316975000/15424859768005087218/05533706151004306672Z/1hbzc_P1FuxMkcabkgn9ZKinBwW683j45?e=download&nonce=l6ord49g2ckoi&user=05533706151004306672Z&hash=17akr43qn52abgcjl7gp3vk0i7p0apia [following]\n",
            "--2021-11-19 10:16:45--  https://doc-14-50-docs.googleusercontent.com/docs/securesc/bejl6ccd5979qrvqjtc1tseil8fdbq2f/5ga7tdktsa34mmafnblg6h3esmuamghi/1637316975000/15424859768005087218/05533706151004306672Z/1hbzc_P1FuxMkcabkgn9ZKinBwW683j45?e=download&nonce=l6ord49g2ckoi&user=05533706151004306672Z&hash=17akr43qn52abgcjl7gp3vk0i7p0apia\n",
            "Connecting to doc-14-50-docs.googleusercontent.com (doc-14-50-docs.googleusercontent.com)|64.233.182.132|:443... connected.\n",
            "HTTP request sent, awaiting response... 200 OK\n",
            "Length: 1150585339 (1.1G) [application/x-gtar]\n",
            "Saving to: ‘CUB_200_2011.tgz’\n",
            "\n",
            "CUB_200_2011.tgz    100%[===================>]   1.07G   149MB/s    in 8.7s    \n",
            "\n",
            "2021-11-19 10:16:55 (126 MB/s) - ‘CUB_200_2011.tgz’ saved [1150585339/1150585339]\n",
            "\n"
          ]
        }
      ]
    },
    {
      "cell_type": "code",
      "metadata": {
        "id": "g_7VBsTNsrM0"
      },
      "source": [
        "# 압축을 풀어줘야 함\n",
        "!tar -xvzf /content/CUB_200_2011.tgz"
      ],
      "execution_count": null,
      "outputs": []
    },
    {
      "cell_type": "code",
      "metadata": {
        "id": "O3Tagj_8vThM"
      },
      "source": [
        "base_folder = '/content/CUB_200_2011/'\n",
        "image_txt_path =  base_folder + 'images.txt'\n",
        "train_test_split_path = base_folder + 'train_test_split.txt'\n",
        "images_path = base_folder + 'images/'"
      ],
      "execution_count": null,
      "outputs": []
    },
    {
      "cell_type": "code",
      "metadata": {
        "id": "ItIW6gdewOhT"
      },
      "source": [
        "from __future__ import absolute_import\n",
        "from __future__ import print_function\n",
        "import matplotlib.pyplot as plt\n",
        "import os\n",
        "import shutil\n",
        "from shutil import copyfile"
      ],
      "execution_count": null,
      "outputs": []
    },
    {
      "cell_type": "code",
      "metadata": {
        "id": "6z79Aa5swlFM"
      },
      "source": [
        "test_folder = '/content/CUB_200_2011/test/'\n",
        "train_folder = '/content/CUB_200_2011/train/'"
      ],
      "execution_count": null,
      "outputs": []
    },
    {
      "cell_type": "code",
      "metadata": {
        "id": "skBuEbFRwvB7"
      },
      "source": [
        "def ignore_files(dir,files):\n",
        "  return [f for f in files if os.path.isfile(os.path.join(dir,f))]"
      ],
      "execution_count": null,
      "outputs": []
    },
    {
      "cell_type": "code",
      "metadata": {
        "colab": {
          "base_uri": "https://localhost:8080/",
          "height": 35
        },
        "id": "JQIFAld6xfE0",
        "outputId": "114d39d1-1fa3-46c3-f4c9-0642cf131322"
      },
      "source": [
        "shutil.copytree(images_path,test_folder,ignore=ignore_files)\n",
        "shutil.copytree(images_path,train_folder,ignore=ignore_files)"
      ],
      "execution_count": null,
      "outputs": [
        {
          "output_type": "execute_result",
          "data": {
            "application/vnd.google.colaboratory.intrinsic+json": {
              "type": "string"
            },
            "text/plain": [
              "'/content/CUB_200_2011/train/'"
            ]
          },
          "metadata": {},
          "execution_count": 16
        }
      ]
    },
    {
      "cell_type": "code",
      "metadata": {
        "id": "bzeMRr2EMw6l"
      },
      "source": [
        ""
      ],
      "execution_count": null,
      "outputs": []
    },
    {
      "cell_type": "code",
      "metadata": {
        "id": "UEtcs0NEyAjK"
      },
      "source": [
        "with open(image_txt_path) as f:\n",
        "  images_lines = f.readlines()"
      ],
      "execution_count": null,
      "outputs": []
    },
    {
      "cell_type": "code",
      "metadata": {
        "id": "KcuNg7MBzV28"
      },
      "source": [
        "with open(train_test_split_path) as f:\n",
        "  split_lines = f.readlines()"
      ],
      "execution_count": null,
      "outputs": []
    },
    {
      "cell_type": "code",
      "metadata": {
        "id": "zFu3eTI9zjJ8"
      },
      "source": [
        "test_images, train_images = 0,0"
      ],
      "execution_count": null,
      "outputs": []
    },
    {
      "cell_type": "code",
      "metadata": {
        "id": "bn2t0dP2AEz9"
      },
      "source": [
        "import numpy as np\n",
        "import tensorflow as tf\n",
        "from tensorflow.keras.models import Sequential\n",
        "from tensorflow.keras.layers import Flatten,Dense\n",
        "from tensorflow.keras.optimizers import Adam\n",
        "from tensorflow.keras.applications.resnet50 import ResNet50,preprocess_input\n",
        "from tensorflow.keras.preprocessing import image\n",
        "import os\n"
      ],
      "execution_count": null,
      "outputs": []
    },
    {
      "cell_type": "code",
      "metadata": {
        "id": "AHE9G7-jBR0l"
      },
      "source": [
        "train_folder='/content/CUB_200_2011/train'\n",
        "test_folder='/content/CUB_200_2011/test'\n"
      ],
      "execution_count": null,
      "outputs": []
    },
    {
      "cell_type": "code",
      "metadata": {
        "id": "NatP1jLuBS6M"
      },
      "source": [
        "class_reduce=0.1 # 부류 수 줄여서 데이터양 줄임(속도와 메모리 효율을 위해)\n",
        "no_class=int(len(os.listdir(train_folder))*class_reduce) # 부류 개수\n"
      ],
      "execution_count": null,
      "outputs": []
    },
    {
      "cell_type": "code",
      "metadata": {
        "id": "hJW0s3U2BT79"
      },
      "source": [
        "x_train,y_train=[],[]\n",
        "for i,class_name in enumerate(os.listdir(train_folder)):\n",
        "    if i<no_class: # 13~14행이 지정한 부류만 사용\n",
        "        for fname in os.listdir(train_folder+'/'+class_name):\n",
        "            img=image.load_img(train_folder+'/'+class_name+'/'+fname,target_size=(224,224))\n",
        "            if len(img.getbands())!=3:\n",
        "                print(\"주의: 유효하지 않은 영상 발생\",class_name,fname)\n",
        "                continue\n",
        "            x=image.img_to_array(img)\n",
        "            x=preprocess_input(x)\n",
        "            x_train.append(x)\n",
        "            y_train.append(i)"
      ],
      "execution_count": null,
      "outputs": []
    },
    {
      "cell_type": "code",
      "metadata": {
        "id": "1ZSdaNWqBWN9"
      },
      "source": [
        "x_test,y_test=[],[]\n",
        "for i,class_name in enumerate(os.listdir(test_folder)):\n",
        "    if i<no_class: # 13~14행이 지정한 부류만 사용\n",
        "        for fname in os.listdir(test_folder+'/'+class_name):\n",
        "            img=image.load_img(test_folder+'/'+class_name+'/'+fname,target_size=(224,224))\n",
        "            if len(img.getbands())!=3:\n",
        "                print(\"주의: 유효하지 않은 영상 발생\",class_name,fname)\n",
        "                continue\n",
        "            x=image.img_to_array(img)\n",
        "            x=preprocess_input(x)\n",
        "            x_test.append(x)\n",
        "            y_test.append(i)"
      ],
      "execution_count": null,
      "outputs": []
    },
    {
      "cell_type": "code",
      "metadata": {
        "id": "kA1spc0PBYD1"
      },
      "source": [
        "x_train=np.asarray(x_train)\n",
        "y_train=np.asarray(y_train)\n",
        "x_test=np.asarray(x_test)\n",
        "y_test=np.asarray(y_test)\n",
        "y_train=tf.keras.utils.to_categorical(y_train,no_class)\n",
        "y_test=tf.keras.utils.to_categorical(y_test,no_class)"
      ],
      "execution_count": null,
      "outputs": []
    },
    {
      "cell_type": "code",
      "metadata": {
        "id": "QgTtWFXSBcL8"
      },
      "source": [
        "base_model=ResNet50(weights='imagenet',include_top=False,input_shape=(224,224,3))\n",
        "cnn=Sequential()\n",
        "cnn.add(base_model)\n",
        "cnn.add(Flatten())\n",
        "cnn.add(Dense(1024,activation='relu'))\n",
        "cnn.add(Dense(no_class,activation='softmax'))"
      ],
      "execution_count": null,
      "outputs": []
    },
    {
      "cell_type": "code",
      "metadata": {
        "colab": {
          "base_uri": "https://localhost:8080/"
        },
        "id": "J6gVzuhlBieE",
        "outputId": "65595158-239e-41c9-ccac-fca6092eaad6"
      },
      "source": [
        "cnn.compile(loss='categorical_crossentropy',optimizer=Adam(0.00002),metrics=['accuracy'])\n",
        "hist=cnn.fit(x_train,y_train,batch_size=16,epochs=10,validation_data=(x_test,y_test),verbose=2)"
      ],
      "execution_count": null,
      "outputs": [
        {
          "output_type": "stream",
          "name": "stdout",
          "text": [
            "Epoch 1/10\n",
            "38/38 - 61s - loss: 2.4931 - accuracy: 0.3920 - val_loss: 1.1420 - val_accuracy: 0.6742 - 61s/epoch - 2s/step\n",
            "Epoch 2/10\n",
            "38/38 - 20s - loss: 0.0552 - accuracy: 0.9849 - val_loss: 0.9313 - val_accuracy: 0.7539 - 20s/epoch - 534ms/step\n",
            "Epoch 3/10\n",
            "38/38 - 20s - loss: 0.0025 - accuracy: 1.0000 - val_loss: 0.8877 - val_accuracy: 0.7487 - 20s/epoch - 534ms/step\n",
            "Epoch 4/10\n",
            "38/38 - 19s - loss: 0.0015 - accuracy: 1.0000 - val_loss: 0.8405 - val_accuracy: 0.7539 - 19s/epoch - 512ms/step\n",
            "Epoch 5/10\n",
            "38/38 - 19s - loss: 6.2776e-04 - accuracy: 1.0000 - val_loss: 0.8393 - val_accuracy: 0.7626 - 19s/epoch - 513ms/step\n",
            "Epoch 6/10\n",
            "38/38 - 19s - loss: 4.5752e-04 - accuracy: 1.0000 - val_loss: 0.8453 - val_accuracy: 0.7574 - 19s/epoch - 512ms/step\n",
            "Epoch 7/10\n",
            "38/38 - 19s - loss: 4.9070e-04 - accuracy: 1.0000 - val_loss: 0.8495 - val_accuracy: 0.7626 - 19s/epoch - 512ms/step\n",
            "Epoch 8/10\n",
            "38/38 - 19s - loss: 2.4192e-04 - accuracy: 1.0000 - val_loss: 0.8517 - val_accuracy: 0.7643 - 19s/epoch - 513ms/step\n",
            "Epoch 9/10\n",
            "38/38 - 19s - loss: 2.8667e-04 - accuracy: 1.0000 - val_loss: 0.8576 - val_accuracy: 0.7626 - 19s/epoch - 512ms/step\n",
            "Epoch 10/10\n",
            "38/38 - 20s - loss: 2.1208e-04 - accuracy: 1.0000 - val_loss: 0.8598 - val_accuracy: 0.7574 - 20s/epoch - 533ms/step\n"
          ]
        }
      ]
    },
    {
      "cell_type": "code",
      "metadata": {
        "colab": {
          "base_uri": "https://localhost:8080/"
        },
        "id": "LYnV3NhjBmAs",
        "outputId": "0f0efd28-6109-4f71-9ed4-3265f2ab23fc"
      },
      "source": [
        "res=cnn.evaluate(x_test,y_test,verbose=0)\n",
        "print(\"정확률은\",res[1]*100)"
      ],
      "execution_count": null,
      "outputs": [
        {
          "output_type": "stream",
          "name": "stdout",
          "text": [
            "정확률은 75.73657035827637\n"
          ]
        }
      ]
    },
    {
      "cell_type": "code",
      "metadata": {
        "id": "43pV0rhXClQt"
      },
      "source": [
        "# 가중치 동결방식\n",
        "base_model.layers\n",
        "for ly in base_model.layers:\n",
        "  ly.trainable  =False"
      ],
      "execution_count": null,
      "outputs": []
    },
    {
      "cell_type": "code",
      "metadata": {
        "colab": {
          "base_uri": "https://localhost:8080/"
        },
        "id": "-rd8oP0ZEp5m",
        "outputId": "6bf1915f-2e9d-4d10-b31f-2fc4ed49da0c"
      },
      "source": [
        "cnn.compile(loss='categorical_crossentropy',optimizer=Adam(0.00002),metrics=['accuracy'])\n",
        "hist=cnn.fit(x_train,y_train,batch_size=16,epochs=10,validation_data=(x_test,y_test),verbose=2)\n",
        "res=cnn.evaluate(x_test,y_test,verbose=0)\n",
        "print(\"정확률은\",res[1]*100)"
      ],
      "execution_count": null,
      "outputs": [
        {
          "output_type": "stream",
          "name": "stdout",
          "text": [
            "Epoch 1/10\n",
            "38/38 - 16s - loss: 0.0018 - accuracy: 0.9983 - val_loss: 1.0214 - val_accuracy: 0.7383 - 16s/epoch - 408ms/step\n",
            "Epoch 2/10\n",
            "38/38 - 10s - loss: 0.0026 - accuracy: 0.9983 - val_loss: 1.3306 - val_accuracy: 0.7019 - 10s/epoch - 264ms/step\n",
            "Epoch 3/10\n",
            "38/38 - 10s - loss: 0.0015 - accuracy: 1.0000 - val_loss: 1.8873 - val_accuracy: 0.6586 - 10s/epoch - 264ms/step\n",
            "Epoch 4/10\n",
            "38/38 - 10s - loss: 7.0829e-04 - accuracy: 1.0000 - val_loss: 1.8169 - val_accuracy: 0.7106 - 10s/epoch - 265ms/step\n",
            "Epoch 5/10\n",
            "38/38 - 10s - loss: 0.0142 - accuracy: 0.9950 - val_loss: 1.4829 - val_accuracy: 0.7192 - 10s/epoch - 264ms/step\n",
            "Epoch 6/10\n",
            "38/38 - 10s - loss: 0.0157 - accuracy: 0.9950 - val_loss: 1.8474 - val_accuracy: 0.6690 - 10s/epoch - 264ms/step\n",
            "Epoch 7/10\n",
            "38/38 - 10s - loss: 4.3914e-04 - accuracy: 1.0000 - val_loss: 1.7760 - val_accuracy: 0.6759 - 10s/epoch - 264ms/step\n",
            "Epoch 8/10\n",
            "38/38 - 10s - loss: 5.9419e-05 - accuracy: 1.0000 - val_loss: 1.6889 - val_accuracy: 0.6967 - 10s/epoch - 263ms/step\n",
            "Epoch 9/10\n",
            "38/38 - 10s - loss: 8.3955e-06 - accuracy: 1.0000 - val_loss: 1.6515 - val_accuracy: 0.7175 - 10s/epoch - 263ms/step\n",
            "Epoch 10/10\n",
            "38/38 - 10s - loss: 2.9493e-07 - accuracy: 1.0000 - val_loss: 1.6390 - val_accuracy: 0.7210 - 10s/epoch - 263ms/step\n",
            "정확률은 72.09705114364624\n"
          ]
        }
      ]
    },
    {
      "cell_type": "code",
      "metadata": {
        "id": "JgHHnfxXFT5N"
      },
      "source": [
        ""
      ],
      "execution_count": null,
      "outputs": []
    }
  ]
}