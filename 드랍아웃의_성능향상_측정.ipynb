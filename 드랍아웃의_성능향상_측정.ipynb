{
  "nbformat": 4,
  "nbformat_minor": 0,
  "metadata": {
    "colab": {
      "name": "드랍아웃의 성능향상 측정.ipynb",
      "provenance": [],
      "collapsed_sections": [],
      "include_colab_link": true
    },
    "kernelspec": {
      "name": "python3",
      "display_name": "Python 3"
    },
    "language_info": {
      "name": "python"
    },
    "accelerator": "GPU"
  },
  "cells": [
    {
      "cell_type": "markdown",
      "metadata": {
        "id": "view-in-github",
        "colab_type": "text"
      },
      "source": [
        "<a href=\"https://colab.research.google.com/github/Chan0226/CNN/blob/main/%EB%93%9C%EB%9E%8D%EC%95%84%EC%9B%83%EC%9D%98_%EC%84%B1%EB%8A%A5%ED%96%A5%EC%83%81_%EC%B8%A1%EC%A0%95.ipynb\" target=\"_parent\"><img src=\"https://colab.research.google.com/assets/colab-badge.svg\" alt=\"Open In Colab\"/></a>"
      ]
    },
    {
      "cell_type": "code",
      "metadata": {
        "id": "W8xX7hB5v9Wr"
      },
      "source": [
        "from tensorflow.keras.datasets import cifar10\n",
        "from tensorflow.keras.preprocessing.image import ImageDataGenerator\n",
        "import matplotlib.pyplot as plt\n",
        "import numpy as np\n",
        "import tensorflow as tf\n",
        "from tensorflow.keras.models import Sequential\n",
        "from tensorflow.keras.layers import Conv2D,MaxPooling2D,Flatten,Dense,Dropout\n",
        "from tensorflow.keras.optimizers import Adam\n",
        "from sklearn.model_selection import KFold"
      ],
      "execution_count": null,
      "outputs": []
    },
    {
      "cell_type": "code",
      "metadata": {
        "colab": {
          "base_uri": "https://localhost:8080/"
        },
        "id": "MPpRz7-dw0z-",
        "outputId": "2fa8e948-e17f-437c-e1c8-fc4e1bdc3701"
      },
      "source": [
        "(x_train,y_train),(x_test,y_test) =  cifar10.load_data()\n",
        "x_train = x_train.astype(np.float32)/255.0\n",
        "x_test = x_test.astype(np.float32)/255.0\n",
        "y_train = tf.keras.utils.to_categorical(y_train,10)\n",
        "y_test = tf.keras.utils.to_categorical(y_test,10)"
      ],
      "execution_count": null,
      "outputs": [
        {
          "output_type": "stream",
          "name": "stdout",
          "text": [
            "Downloading data from https://www.cs.toronto.edu/~kriz/cifar-10-python.tar.gz\n",
            "170500096/170498071 [==============================] - 10s 0us/step\n",
            "170508288/170498071 [==============================] - 10s 0us/step\n"
          ]
        }
      ]
    },
    {
      "cell_type": "code",
      "metadata": {
        "id": "a3pIqVZmw8Pt"
      },
      "source": [
        "# 교차검증을 위한 하이퍼 매개변수\n",
        "batch_size = 128\n",
        "n_epoch = 10\n",
        "k = 3"
      ],
      "execution_count": null,
      "outputs": []
    },
    {
      "cell_type": "code",
      "metadata": {
        "id": "CsNPBNmbxSL7"
      },
      "source": [
        "# 드랍아웃의 비율에 따라서 교차검증을 하는 함수\n",
        "def cross_validation(dropoutRate):\n",
        "  acurracy = []\n",
        "  for train_index, val_index in  KFold(k).split(x_train):\n",
        "    # 훈련 집합 검증 집합\n",
        "    xtrain,xval = x_train[train_index], x_train[val_index]\n",
        "    ytrain,yval = y_train[train_index], y_train[val_index]\n",
        "\n",
        "    # 신경망 모델 설계  C C P D  C C P D FC D FC\n",
        "    cnn = Sequential()\n",
        "    cnn.add(Conv2D(32,(3,3),activation='relu', input_shape=(32,32,3) ))\n",
        "    cnn.add(Conv2D(32,(3,3),activation='relu' ))\n",
        "    cnn.add(MaxPooling2D(pool_size=(2,2)))\n",
        "    cnn.add(Dropout(dropoutRate[0]))\n",
        "\n",
        "    cnn.add(Conv2D(64,(3,3),activation='relu'))\n",
        "    cnn.add(Conv2D(64,(3,3),activation='relu' ))\n",
        "    cnn.add(MaxPooling2D(pool_size=(2,2)))\n",
        "    cnn.add(Dropout(dropoutRate[1]))\n",
        "\n",
        "    cnn.add(Flatten())\n",
        "    cnn.add(Dense(512,activation='relu'))\n",
        "    cnn.add(Dropout(dropoutRate[2]))\n",
        "    cnn.add(Dense(10,activation='softmax'))  # 이진 분류 sigmoid\n",
        "\n",
        "    # 학습\n",
        "    # 신경망 모델 학습(영상 증대기 활용)\n",
        "    cnn.compile(loss = 'categorical_crossentropy', optimizer=Adam(), metrics=['accuracy'])        \n",
        "    cnn.fit(x_train,y_train,batch_size=batch_size,epochs=n_epoch,\n",
        "                            validation_data = (x_test,y_test), verbose=2)\n",
        "    acurracy.append(cnn.evaluate(xval,yval,verbose=0)[1] )\n",
        "  return acurracy\n"
      ],
      "execution_count": null,
      "outputs": []
    },
    {
      "cell_type": "code",
      "metadata": {
        "colab": {
          "base_uri": "https://localhost:8080/"
        },
        "id": "QvGZgPAQ0IC1",
        "outputId": "395f3d77-08ff-4e91-9507-51c65440ed28"
      },
      "source": [
        "# 드롭아웃의 비율을 달리변경하면서 신경망을평가\n",
        "withOutDropout =  cross_validation([0.0,0.0,0.0])\n",
        "withDropout =  cross_validation([0.25,0.25,0.5])"
      ],
      "execution_count": null,
      "outputs": [
        {
          "output_type": "stream",
          "name": "stdout",
          "text": [
            "Epoch 1/10\n",
            "391/391 - 8s - loss: 1.5425 - accuracy: 0.4401 - val_loss: 1.2385 - val_accuracy: 0.5567 - 8s/epoch - 20ms/step\n",
            "Epoch 2/10\n",
            "391/391 - 7s - loss: 1.1371 - accuracy: 0.5956 - val_loss: 1.0325 - val_accuracy: 0.6339 - 7s/epoch - 17ms/step\n",
            "Epoch 3/10\n",
            "391/391 - 7s - loss: 0.9284 - accuracy: 0.6761 - val_loss: 0.9361 - val_accuracy: 0.6755 - 7s/epoch - 17ms/step\n",
            "Epoch 4/10\n",
            "391/391 - 7s - loss: 0.7957 - accuracy: 0.7224 - val_loss: 0.8572 - val_accuracy: 0.7050 - 7s/epoch - 17ms/step\n",
            "Epoch 5/10\n",
            "391/391 - 6s - loss: 0.6791 - accuracy: 0.7635 - val_loss: 0.7821 - val_accuracy: 0.7296 - 6s/epoch - 16ms/step\n",
            "Epoch 6/10\n",
            "391/391 - 6s - loss: 0.5760 - accuracy: 0.8006 - val_loss: 0.7627 - val_accuracy: 0.7375 - 6s/epoch - 16ms/step\n",
            "Epoch 7/10\n",
            "391/391 - 7s - loss: 0.4917 - accuracy: 0.8272 - val_loss: 0.7566 - val_accuracy: 0.7455 - 7s/epoch - 17ms/step\n",
            "Epoch 8/10\n",
            "391/391 - 6s - loss: 0.4040 - accuracy: 0.8583 - val_loss: 0.7965 - val_accuracy: 0.7447 - 6s/epoch - 16ms/step\n",
            "Epoch 9/10\n",
            "391/391 - 6s - loss: 0.3242 - accuracy: 0.8861 - val_loss: 0.8551 - val_accuracy: 0.7422 - 6s/epoch - 17ms/step\n",
            "Epoch 10/10\n",
            "391/391 - 6s - loss: 0.2531 - accuracy: 0.9113 - val_loss: 0.9741 - val_accuracy: 0.7488 - 6s/epoch - 17ms/step\n",
            "Epoch 1/10\n",
            "391/391 - 8s - loss: 1.5434 - accuracy: 0.4355 - val_loss: 1.2526 - val_accuracy: 0.5560 - 8s/epoch - 19ms/step\n",
            "Epoch 2/10\n",
            "391/391 - 7s - loss: 1.1473 - accuracy: 0.5931 - val_loss: 1.0622 - val_accuracy: 0.6268 - 7s/epoch - 17ms/step\n",
            "Epoch 3/10\n",
            "391/391 - 6s - loss: 0.9521 - accuracy: 0.6655 - val_loss: 0.9343 - val_accuracy: 0.6728 - 6s/epoch - 17ms/step\n",
            "Epoch 4/10\n",
            "391/391 - 7s - loss: 0.8185 - accuracy: 0.7127 - val_loss: 0.8572 - val_accuracy: 0.7042 - 7s/epoch - 17ms/step\n",
            "Epoch 5/10\n",
            "391/391 - 7s - loss: 0.7148 - accuracy: 0.7508 - val_loss: 0.8161 - val_accuracy: 0.7203 - 7s/epoch - 17ms/step\n",
            "Epoch 6/10\n",
            "391/391 - 7s - loss: 0.6184 - accuracy: 0.7821 - val_loss: 0.8035 - val_accuracy: 0.7259 - 7s/epoch - 17ms/step\n",
            "Epoch 7/10\n",
            "391/391 - 7s - loss: 0.5264 - accuracy: 0.8151 - val_loss: 0.7707 - val_accuracy: 0.7418 - 7s/epoch - 17ms/step\n",
            "Epoch 8/10\n",
            "391/391 - 7s - loss: 0.4584 - accuracy: 0.8403 - val_loss: 0.8173 - val_accuracy: 0.7455 - 7s/epoch - 17ms/step\n",
            "Epoch 9/10\n",
            "391/391 - 6s - loss: 0.3776 - accuracy: 0.8678 - val_loss: 0.8371 - val_accuracy: 0.7400 - 6s/epoch - 17ms/step\n",
            "Epoch 10/10\n",
            "391/391 - 7s - loss: 0.3039 - accuracy: 0.8942 - val_loss: 0.9171 - val_accuracy: 0.7377 - 7s/epoch - 17ms/step\n",
            "Epoch 1/10\n",
            "391/391 - 8s - loss: 1.5401 - accuracy: 0.4394 - val_loss: 1.2485 - val_accuracy: 0.5541 - 8s/epoch - 20ms/step\n",
            "Epoch 2/10\n",
            "391/391 - 7s - loss: 1.0994 - accuracy: 0.6136 - val_loss: 1.0515 - val_accuracy: 0.6343 - 7s/epoch - 17ms/step\n",
            "Epoch 3/10\n",
            "391/391 - 7s - loss: 0.9126 - accuracy: 0.6793 - val_loss: 0.9354 - val_accuracy: 0.6784 - 7s/epoch - 17ms/step\n",
            "Epoch 4/10\n",
            "391/391 - 6s - loss: 0.7748 - accuracy: 0.7295 - val_loss: 0.8350 - val_accuracy: 0.7127 - 6s/epoch - 16ms/step\n",
            "Epoch 5/10\n",
            "391/391 - 6s - loss: 0.6678 - accuracy: 0.7688 - val_loss: 0.7968 - val_accuracy: 0.7248 - 6s/epoch - 17ms/step\n",
            "Epoch 6/10\n",
            "391/391 - 6s - loss: 0.5650 - accuracy: 0.8038 - val_loss: 0.8050 - val_accuracy: 0.7332 - 6s/epoch - 17ms/step\n",
            "Epoch 7/10\n",
            "391/391 - 7s - loss: 0.4684 - accuracy: 0.8368 - val_loss: 0.7552 - val_accuracy: 0.7532 - 7s/epoch - 18ms/step\n",
            "Epoch 8/10\n",
            "391/391 - 6s - loss: 0.3790 - accuracy: 0.8671 - val_loss: 0.8330 - val_accuracy: 0.7447 - 6s/epoch - 16ms/step\n",
            "Epoch 9/10\n",
            "391/391 - 6s - loss: 0.3078 - accuracy: 0.8927 - val_loss: 0.8779 - val_accuracy: 0.7472 - 6s/epoch - 16ms/step\n",
            "Epoch 10/10\n",
            "391/391 - 7s - loss: 0.2258 - accuracy: 0.9205 - val_loss: 0.9676 - val_accuracy: 0.7471 - 7s/epoch - 17ms/step\n",
            "Epoch 1/10\n",
            "391/391 - 8s - loss: 1.6629 - accuracy: 0.3863 - val_loss: 1.3021 - val_accuracy: 0.5286 - 8s/epoch - 20ms/step\n",
            "Epoch 2/10\n",
            "391/391 - 7s - loss: 1.2617 - accuracy: 0.5493 - val_loss: 1.1005 - val_accuracy: 0.6120 - 7s/epoch - 17ms/step\n",
            "Epoch 3/10\n",
            "391/391 - 7s - loss: 1.0882 - accuracy: 0.6143 - val_loss: 0.9555 - val_accuracy: 0.6607 - 7s/epoch - 17ms/step\n",
            "Epoch 4/10\n",
            "391/391 - 7s - loss: 0.9822 - accuracy: 0.6538 - val_loss: 0.9259 - val_accuracy: 0.6728 - 7s/epoch - 17ms/step\n",
            "Epoch 5/10\n",
            "391/391 - 7s - loss: 0.8928 - accuracy: 0.6857 - val_loss: 0.8002 - val_accuracy: 0.7189 - 7s/epoch - 17ms/step\n",
            "Epoch 6/10\n",
            "391/391 - 7s - loss: 0.8330 - accuracy: 0.7065 - val_loss: 0.7916 - val_accuracy: 0.7227 - 7s/epoch - 18ms/step\n",
            "Epoch 7/10\n",
            "391/391 - 7s - loss: 0.7852 - accuracy: 0.7221 - val_loss: 0.7290 - val_accuracy: 0.7469 - 7s/epoch - 18ms/step\n",
            "Epoch 8/10\n",
            "391/391 - 7s - loss: 0.7503 - accuracy: 0.7363 - val_loss: 0.7341 - val_accuracy: 0.7452 - 7s/epoch - 18ms/step\n",
            "Epoch 9/10\n",
            "391/391 - 7s - loss: 0.7088 - accuracy: 0.7514 - val_loss: 0.7014 - val_accuracy: 0.7534 - 7s/epoch - 17ms/step\n",
            "Epoch 10/10\n",
            "391/391 - 7s - loss: 0.6828 - accuracy: 0.7595 - val_loss: 0.6670 - val_accuracy: 0.7716 - 7s/epoch - 17ms/step\n",
            "Epoch 1/10\n",
            "391/391 - 8s - loss: 1.6562 - accuracy: 0.3870 - val_loss: 1.2644 - val_accuracy: 0.5457 - 8s/epoch - 21ms/step\n",
            "Epoch 2/10\n",
            "391/391 - 7s - loss: 1.2503 - accuracy: 0.5523 - val_loss: 1.0555 - val_accuracy: 0.6276 - 7s/epoch - 18ms/step\n",
            "Epoch 3/10\n",
            "391/391 - 7s - loss: 1.0789 - accuracy: 0.6191 - val_loss: 0.9793 - val_accuracy: 0.6546 - 7s/epoch - 17ms/step\n",
            "Epoch 4/10\n",
            "391/391 - 7s - loss: 0.9815 - accuracy: 0.6526 - val_loss: 0.9309 - val_accuracy: 0.6702 - 7s/epoch - 17ms/step\n",
            "Epoch 5/10\n",
            "391/391 - 7s - loss: 0.8968 - accuracy: 0.6827 - val_loss: 0.8099 - val_accuracy: 0.7204 - 7s/epoch - 17ms/step\n",
            "Epoch 6/10\n",
            "391/391 - 7s - loss: 0.8366 - accuracy: 0.7048 - val_loss: 0.8009 - val_accuracy: 0.7233 - 7s/epoch - 18ms/step\n",
            "Epoch 7/10\n",
            "391/391 - 7s - loss: 0.7870 - accuracy: 0.7223 - val_loss: 0.7939 - val_accuracy: 0.7194 - 7s/epoch - 18ms/step\n",
            "Epoch 8/10\n",
            "391/391 - 7s - loss: 0.7486 - accuracy: 0.7356 - val_loss: 0.7165 - val_accuracy: 0.7526 - 7s/epoch - 17ms/step\n",
            "Epoch 9/10\n",
            "391/391 - 7s - loss: 0.7104 - accuracy: 0.7511 - val_loss: 0.7084 - val_accuracy: 0.7541 - 7s/epoch - 18ms/step\n",
            "Epoch 10/10\n",
            "391/391 - 7s - loss: 0.6770 - accuracy: 0.7619 - val_loss: 0.6908 - val_accuracy: 0.7558 - 7s/epoch - 17ms/step\n",
            "Epoch 1/10\n",
            "391/391 - 8s - loss: 1.6331 - accuracy: 0.4044 - val_loss: 1.2861 - val_accuracy: 0.5350 - 8s/epoch - 21ms/step\n",
            "Epoch 2/10\n",
            "391/391 - 7s - loss: 1.2534 - accuracy: 0.5529 - val_loss: 1.0880 - val_accuracy: 0.6181 - 7s/epoch - 17ms/step\n",
            "Epoch 3/10\n",
            "391/391 - 7s - loss: 1.0625 - accuracy: 0.6252 - val_loss: 0.9699 - val_accuracy: 0.6605 - 7s/epoch - 17ms/step\n",
            "Epoch 4/10\n",
            "391/391 - 7s - loss: 0.9309 - accuracy: 0.6730 - val_loss: 0.8580 - val_accuracy: 0.7009 - 7s/epoch - 17ms/step\n",
            "Epoch 5/10\n",
            "391/391 - 7s - loss: 0.8560 - accuracy: 0.6993 - val_loss: 0.7856 - val_accuracy: 0.7220 - 7s/epoch - 17ms/step\n",
            "Epoch 6/10\n",
            "391/391 - 7s - loss: 0.7929 - accuracy: 0.7204 - val_loss: 0.7477 - val_accuracy: 0.7359 - 7s/epoch - 17ms/step\n",
            "Epoch 7/10\n",
            "391/391 - 7s - loss: 0.7476 - accuracy: 0.7371 - val_loss: 0.7275 - val_accuracy: 0.7480 - 7s/epoch - 17ms/step\n",
            "Epoch 8/10\n",
            "391/391 - 7s - loss: 0.7144 - accuracy: 0.7514 - val_loss: 0.6900 - val_accuracy: 0.7612 - 7s/epoch - 18ms/step\n",
            "Epoch 9/10\n",
            "391/391 - 7s - loss: 0.6772 - accuracy: 0.7625 - val_loss: 0.6802 - val_accuracy: 0.7631 - 7s/epoch - 17ms/step\n",
            "Epoch 10/10\n",
            "391/391 - 7s - loss: 0.6434 - accuracy: 0.7742 - val_loss: 0.6583 - val_accuracy: 0.7736 - 7s/epoch - 17ms/step\n"
          ]
        }
      ]
    },
    {
      "cell_type": "code",
      "metadata": {
        "colab": {
          "base_uri": "https://localhost:8080/"
        },
        "id": "Ie9iAmmG0ep8",
        "outputId": "0e042156-ea8c-4b30-f842-edee64adce67"
      },
      "source": [
        "print(\"without dropout\", np.array(withOutDropout).mean() )\n",
        "print(\"with dropout\", np.array(withDropout).mean() )"
      ],
      "execution_count": null,
      "outputs": [
        {
          "output_type": "stream",
          "name": "stdout",
          "text": [
            "without dropout 0.9373002052307129\n",
            "with dropout 0.8378401398658752\n"
          ]
        }
      ]
    },
    {
      "cell_type": "code",
      "metadata": {
        "colab": {
          "base_uri": "https://localhost:8080/",
          "height": 265
        },
        "id": "4-_DBdd917YR",
        "outputId": "6d24dbd4-241c-4c7d-e3f2-31119b4a3ba4"
      },
      "source": [
        "# 박스 플롯\n",
        "plt.boxplot([withOutDropout,withDropout], labels = ['withOutDropout','withDropout'])\n",
        "plt.grid()\n"
      ],
      "execution_count": null,
      "outputs": [
        {
          "output_type": "display_data",
          "data": {
            "image/png": "[encoded data removed]",
            "text/plain": [
              "<Figure size 432x288 with 1 Axes>"
            ]
          },
          "metadata": {
            "needs_background": "light"
          }
        }
      ]
    }
  ]
}